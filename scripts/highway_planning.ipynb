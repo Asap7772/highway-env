{
 "cells": [
  {
   "cell_type": "markdown",
   "metadata": {
    "colab_type": "text",
    "id": "QKWvMXWMBEJA"
   },
   "source": [
    "# Behavioural Planning for Autonomous Highway Driving\n",
    "\n",
    "We plan a trajectory using the _Optimistic Planning for Deterministic systems_ ([OPD](https://hal.inria.fr/hal-00830182)) algorithm.\n",
    "\n",
    "##  Setup\n",
    "\n",
    "We first import useful modules for the environment, agent, and visualization."
   ]
  },
  {
   "cell_type": "code",
   "execution_count": 1,
   "metadata": {
    "colab": {},
    "colab_type": "code",
    "id": "s-ghXis6A_md"
   },
   "outputs": [
    {
     "name": "stdout",
     "output_type": "stream",
     "text": [
      "Collecting rl-agents\n",
      "  Cloning https://github.com/eleurent/rl-agents to /tmp/pip-install-tcl2oc07/rl-agents_f3df2949695746a0954f10efcc41b9e2\n",
      "  Running command git clone -q https://github.com/eleurent/rl-agents /tmp/pip-install-tcl2oc07/rl-agents_f3df2949695746a0954f10efcc41b9e2\n",
      "  Resolved https://github.com/eleurent/rl-agents to commit 9ed10b2e8407afb606857d332b51babb52d2d90c\n",
      "Requirement already satisfied: gym in /home/asap7772/miniconda3/envs/SimpleSAC/lib/python3.8/site-packages (from rl-agents) (0.20.0)\n",
      "Requirement already satisfied: numpy in /home/asap7772/miniconda3/envs/SimpleSAC/lib/python3.8/site-packages (from rl-agents) (1.20.3)\n",
      "Requirement already satisfied: pandas in /home/asap7772/miniconda3/envs/SimpleSAC/lib/python3.8/site-packages (from rl-agents) (1.4.2)\n",
      "Requirement already satisfied: numba in /home/asap7772/miniconda3/envs/SimpleSAC/lib/python3.8/site-packages (from rl-agents) (0.55.1)\n",
      "Requirement already satisfied: pygame in /home/asap7772/miniconda3/envs/SimpleSAC/lib/python3.8/site-packages (from rl-agents) (2.1.2)\n",
      "Requirement already satisfied: matplotlib in /home/asap7772/miniconda3/envs/SimpleSAC/lib/python3.8/site-packages (from rl-agents) (3.4.2)\n",
      "Requirement already satisfied: seaborn in /home/asap7772/miniconda3/envs/SimpleSAC/lib/python3.8/site-packages (from rl-agents) (0.11.2)\n",
      "Requirement already satisfied: six in /home/asap7772/miniconda3/envs/SimpleSAC/lib/python3.8/site-packages (from rl-agents) (1.16.0)\n",
      "Requirement already satisfied: docopt in /home/asap7772/miniconda3/envs/SimpleSAC/lib/python3.8/site-packages (from rl-agents) (0.6.2)\n",
      "Requirement already satisfied: torch>=1.2.0 in /home/asap7772/miniconda3/envs/SimpleSAC/lib/python3.8/site-packages (from rl-agents) (1.9.1)\n",
      "Requirement already satisfied: tensorboardX in /home/asap7772/miniconda3/envs/SimpleSAC/lib/python3.8/site-packages (from rl-agents) (2.4)\n",
      "Requirement already satisfied: typing-extensions in /home/asap7772/miniconda3/envs/SimpleSAC/lib/python3.8/site-packages (from torch>=1.2.0->rl-agents) (3.10.0.2)\n",
      "Requirement already satisfied: cloudpickle>=1.2.0 in /home/asap7772/miniconda3/envs/SimpleSAC/lib/python3.8/site-packages (from gym->rl-agents) (2.0.0)\n",
      "Requirement already satisfied: pyparsing>=2.2.1 in /home/asap7772/miniconda3/envs/SimpleSAC/lib/python3.8/site-packages (from matplotlib->rl-agents) (2.4.7)\n",
      "Requirement already satisfied: cycler>=0.10 in /home/asap7772/miniconda3/envs/SimpleSAC/lib/python3.8/site-packages (from matplotlib->rl-agents) (0.10.0)\n",
      "Requirement already satisfied: pillow>=6.2.0 in /home/asap7772/miniconda3/envs/SimpleSAC/lib/python3.8/site-packages (from matplotlib->rl-agents) (8.3.1)\n",
      "Requirement already satisfied: python-dateutil>=2.7 in /home/asap7772/miniconda3/envs/SimpleSAC/lib/python3.8/site-packages (from matplotlib->rl-agents) (2.8.2)\n",
      "Requirement already satisfied: kiwisolver>=1.0.1 in /home/asap7772/miniconda3/envs/SimpleSAC/lib/python3.8/site-packages (from matplotlib->rl-agents) (1.3.1)\n",
      "Requirement already satisfied: setuptools in /home/asap7772/miniconda3/envs/SimpleSAC/lib/python3.8/site-packages (from numba->rl-agents) (58.0.4)\n",
      "Requirement already satisfied: llvmlite<0.39,>=0.38.0rc1 in /home/asap7772/miniconda3/envs/SimpleSAC/lib/python3.8/site-packages (from numba->rl-agents) (0.38.0)\n",
      "Requirement already satisfied: pytz>=2020.1 in /home/asap7772/miniconda3/envs/SimpleSAC/lib/python3.8/site-packages (from pandas->rl-agents) (2022.1)\n",
      "Requirement already satisfied: scipy>=1.0 in /home/asap7772/miniconda3/envs/SimpleSAC/lib/python3.8/site-packages/scipy-1.7.1-py3.8-linux-x86_64.egg (from seaborn->rl-agents) (1.7.1)\n",
      "Requirement already satisfied: protobuf>=3.8.0 in /home/asap7772/miniconda3/envs/SimpleSAC/lib/python3.8/site-packages (from tensorboardX->rl-agents) (3.18.0)\n",
      "Requirement already satisfied: gym in /home/asap7772/miniconda3/envs/SimpleSAC/lib/python3.8/site-packages (0.20.0)\n",
      "Requirement already satisfied: pyvirtualdisplay in /home/asap7772/miniconda3/envs/SimpleSAC/lib/python3.8/site-packages (3.0)\n",
      "Requirement already satisfied: numpy>=1.18.0 in /home/asap7772/miniconda3/envs/SimpleSAC/lib/python3.8/site-packages (from gym) (1.20.3)\n",
      "Requirement already satisfied: cloudpickle>=1.2.0 in /home/asap7772/miniconda3/envs/SimpleSAC/lib/python3.8/site-packages (from gym) (2.0.0)\n",
      "E: Could not open lock file /var/lib/dpkg/lock-frontend - open (13: Permission denied)\n",
      "E: Unable to acquire the dpkg frontend lock (/var/lib/dpkg/lock-frontend), are you root?\n"
     ]
    }
   ],
   "source": [
    "# Environment\n",
    "import gym\n",
    "import highway_env\n",
    "import os\n",
    "os.environ[\"OFFSCREEN_RENDERING\"] = \"1\"\n",
    "\n",
    "# Agent\n",
    "!pip install git+https://github.com/eleurent/rl-agents#egg=rl-agents\n",
    "from rl_agents.agents.common.factory import agent_factory\n",
    "\n",
    "# Visualisation\n",
    "import sys\n",
    "from tqdm.notebook import trange\n",
    "!pip install gym pyvirtualdisplay\n",
    "!apt-get install -y xvfb python-opengl ffmpeg\n",
    "from utils import record_videos, show_videos\n"
   ]
  },
  {
   "cell_type": "markdown",
   "metadata": {
    "colab_type": "text",
    "id": "oi1SV025BXhB"
   },
   "source": [
    "## Run an episode"
   ]
  },
  {
   "cell_type": "code",
   "execution_count": 2,
   "metadata": {
    "colab": {},
    "colab_type": "code",
    "id": "bgNDDWwqCj8l"
   },
   "outputs": [
    {
     "name": "stderr",
     "output_type": "stream",
     "text": [
      "/nfs/kun1/users/asap7772/highway-env/highway_env/envs/common/observation.py:215: FutureWarning: The frame.append method is deprecated and will be removed from pandas in a future version. Use pandas.concat instead.\n",
      "  df = df.append(pd.DataFrame.from_records(\n"
     ]
    },
    {
     "ename": "TypeError",
     "evalue": "__init__() got an unexpected keyword argument 'force'",
     "output_type": "error",
     "traceback": [
      "\u001b[0;31m---------------------------------------------------------------------------\u001b[0m",
      "\u001b[0;31mTypeError\u001b[0m                                 Traceback (most recent call last)",
      "\u001b[0;32m/tmp/ipykernel_28968/874701925.py\u001b[0m in \u001b[0;36m<module>\u001b[0;34m\u001b[0m\n\u001b[1;32m      1\u001b[0m \u001b[0;31m# Make environment\u001b[0m\u001b[0;34m\u001b[0m\u001b[0;34m\u001b[0m\u001b[0;34m\u001b[0m\u001b[0m\n\u001b[1;32m      2\u001b[0m \u001b[0menv\u001b[0m \u001b[0;34m=\u001b[0m \u001b[0mgym\u001b[0m\u001b[0;34m.\u001b[0m\u001b[0mmake\u001b[0m\u001b[0;34m(\u001b[0m\u001b[0;34m\"highway-fast-v0\"\u001b[0m\u001b[0;34m)\u001b[0m\u001b[0;34m\u001b[0m\u001b[0;34m\u001b[0m\u001b[0m\n\u001b[0;32m----> 3\u001b[0;31m \u001b[0menv\u001b[0m \u001b[0;34m=\u001b[0m \u001b[0mrecord_videos\u001b[0m\u001b[0;34m(\u001b[0m\u001b[0menv\u001b[0m\u001b[0;34m)\u001b[0m\u001b[0;34m\u001b[0m\u001b[0;34m\u001b[0m\u001b[0m\n\u001b[0m\u001b[1;32m      4\u001b[0m \u001b[0mobs\u001b[0m\u001b[0;34m,\u001b[0m \u001b[0mdone\u001b[0m \u001b[0;34m=\u001b[0m \u001b[0menv\u001b[0m\u001b[0;34m.\u001b[0m\u001b[0mreset\u001b[0m\u001b[0;34m(\u001b[0m\u001b[0;34m)\u001b[0m\u001b[0;34m,\u001b[0m \u001b[0;32mFalse\u001b[0m\u001b[0;34m\u001b[0m\u001b[0;34m\u001b[0m\u001b[0m\n\u001b[1;32m      5\u001b[0m \u001b[0;34m\u001b[0m\u001b[0m\n",
      "\u001b[0;32m/nfs/kun1/users/asap7772/highway-env/scripts/utils.py\u001b[0m in \u001b[0;36mrecord_videos\u001b[0;34m(env, path)\u001b[0m\n\u001b[1;32m     11\u001b[0m \u001b[0;34m\u001b[0m\u001b[0m\n\u001b[1;32m     12\u001b[0m \u001b[0;32mdef\u001b[0m \u001b[0mrecord_videos\u001b[0m\u001b[0;34m(\u001b[0m\u001b[0menv\u001b[0m\u001b[0;34m,\u001b[0m \u001b[0mpath\u001b[0m\u001b[0;34m=\u001b[0m\u001b[0;34m\"videos\"\u001b[0m\u001b[0;34m)\u001b[0m\u001b[0;34m:\u001b[0m\u001b[0;34m\u001b[0m\u001b[0;34m\u001b[0m\u001b[0m\n\u001b[0;32m---> 13\u001b[0;31m     \u001b[0mwrapped\u001b[0m \u001b[0;34m=\u001b[0m \u001b[0mRecordVideo\u001b[0m\u001b[0;34m(\u001b[0m\u001b[0menv\u001b[0m\u001b[0;34m,\u001b[0m \u001b[0mpath\u001b[0m\u001b[0;34m,\u001b[0m \u001b[0mforce\u001b[0m\u001b[0;34m=\u001b[0m\u001b[0;32mTrue\u001b[0m\u001b[0;34m,\u001b[0m \u001b[0mvideo_callable\u001b[0m\u001b[0;34m=\u001b[0m\u001b[0;32mlambda\u001b[0m \u001b[0mepisode\u001b[0m\u001b[0;34m:\u001b[0m \u001b[0;32mTrue\u001b[0m\u001b[0;34m)\u001b[0m\u001b[0;34m\u001b[0m\u001b[0;34m\u001b[0m\u001b[0m\n\u001b[0m\u001b[1;32m     14\u001b[0m \u001b[0;34m\u001b[0m\u001b[0m\n\u001b[1;32m     15\u001b[0m     \u001b[0;31m# Capture intermediate frames\u001b[0m\u001b[0;34m\u001b[0m\u001b[0;34m\u001b[0m\u001b[0;34m\u001b[0m\u001b[0m\n",
      "\u001b[0;31mTypeError\u001b[0m: __init__() got an unexpected keyword argument 'force'"
     ]
    }
   ],
   "source": [
    "# Make environment\n",
    "env = gym.make(\"highway-fast-v0\")\n",
    "env = record_videos(env)\n",
    "obs, done = env.reset(), False\n",
    "\n",
    "# Make agent\n",
    "agent_config = {\n",
    "    \"__class__\": \"<class 'rl_agents.agents.tree_search.deterministic.DeterministicPlannerAgent'>\",\n",
    "    \"env_preprocessors\": [{\"method\":\"simplify\"}],\n",
    "    \"budget\": 50,\n",
    "    \"gamma\": 0.7,\n",
    "}\n",
    "agent = agent_factory(env, agent_config)\n",
    "\n",
    "# Run episode\n",
    "for step in trange(env.unwrapped.config[\"duration\"], desc=\"Running...\"):\n",
    "    action = agent.act(obs)\n",
    "    obs, reward, done, info = env.step(action)\n",
    "    \n",
    "env.close()\n",
    "show_videos()"
   ]
  },
  {
   "cell_type": "code",
   "execution_count": null,
   "metadata": {},
   "outputs": [],
   "source": []
  }
 ],
 "metadata": {
  "colab": {
   "name": "highway-planning.ipynb",
   "provenance": [],
   "version": "0.3.2"
  },
  "kernelspec": {
   "display_name": "Python 3",
   "language": "python",
   "name": "python3"
  },
  "language_info": {
   "codemirror_mode": {
    "name": "ipython",
    "version": 3
   },
   "file_extension": ".py",
   "mimetype": "text/x-python",
   "name": "python",
   "nbconvert_exporter": "python",
   "pygments_lexer": "ipython3",
   "version": "3.8.11"
  },
  "pycharm": {
   "stem_cell": {
    "cell_type": "raw",
    "metadata": {
     "collapsed": false
    },
    "source": []
   }
  }
 },
 "nbformat": 4,
 "nbformat_minor": 0
}
