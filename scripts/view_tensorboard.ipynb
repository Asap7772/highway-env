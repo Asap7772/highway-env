{
 "cells": [
  {
   "cell_type": "code",
   "execution_count": null,
   "metadata": {},
   "outputs": [],
   "source": [
    "!pip install tensorboard pandas\n",
    "!pip install matplotlib seaborn\n",
    "!pip install tensorflow"
   ]
  },
  {
   "cell_type": "code",
   "execution_count": null,
   "metadata": {},
   "outputs": [],
   "source": [
    "import os"
   ]
  },
  {
   "cell_type": "code",
   "execution_count": null,
   "metadata": {},
   "outputs": [],
   "source": [
    "path = '/home/asap7772/highway-env/data'\n",
    "lst = []\n",
    "for root, dirs, files in os.walk(path, topdown=False):\n",
    "    for name in files:\n",
    "      x = os.path.join(root, name)\n",
    "      if 'tfevents' in x:\n",
    "        lst.append(x)\n",
    "        print('added: ', x)"
   ]
  },
  {
   "cell_type": "markdown",
   "metadata": {},
   "source": [
    "# Plotting TensorBoard"
   ]
  },
  {
   "cell_type": "code",
   "execution_count": null,
   "metadata": {},
   "outputs": [],
   "source": [
    "from packaging import version\n",
    "\n",
    "import pandas as pd\n",
    "from matplotlib import pyplot as plt\n",
    "import seaborn as sns\n",
    "from scipy import stats\n",
    "import tensorboard as tb"
   ]
  },
  {
   "cell_type": "code",
   "execution_count": null,
   "metadata": {},
   "outputs": [],
   "source": [
    "major_ver, minor_ver, _ = version.parse(tb.__version__).release\n",
    "assert major_ver >= 2 and minor_ver >= 3, \\\n",
    "    \"This notebook requires TensorBoard 2.3 or later.\"\n",
    "print(\"TensorBoard version: \", tb.__version__)"
   ]
  },
  {
   "cell_type": "code",
   "execution_count": null,
   "metadata": {},
   "outputs": [],
   "source": [
    "from tensorflow.python.summary.summary_iterator import summary_iterator\n",
    "from collections import defaultdict\n",
    "def get_data(path, prefix=''):\n",
    "    data = defaultdict(list)\n",
    "    for e in summary_iterator(path):\n",
    "        for v in e.summary.value:\n",
    "            data[v.tag].append(v.simple_value)\n",
    "    return data\n",
    "\n",
    "dcts = [get_data(x) for x in lst]\n",
    "print(dcts[0].keys())"
   ]
  },
  {
   "cell_type": "code",
   "execution_count": null,
   "metadata": {},
   "outputs": [],
   "source": [
    "import heapq\n",
    "\n",
    "plt.figure(figsize=(20,10))\n",
    "\n",
    "\n",
    "pq = []\n",
    "i = 0\n",
    "for dct in dcts:\n",
    "    heapq.heappush(pq, (-max(dct['rollout/ep_rew_mean']), dct, i))\n",
    "    i += 1\n",
    "\n",
    "for i in range(10):\n",
    "    val,dct,i = heapq.heappop(pq)\n",
    "    plt.plot(dct['rollout/ep_rew_mean'], label=lst[i].split('/')[-2])\n",
    "plt.legend()\n",
    "plt.show()"
   ]
  },
  {
   "cell_type": "code",
   "execution_count": null,
   "metadata": {},
   "outputs": [],
   "source": [
    "from tensorflow.python.summary.summary_iterator import summary_iterator\n",
    "from collections import defaultdict\n",
    "\n",
    "def plot_tensorboard(path, prefix=''):\n",
    "    data = defaultdict(list)\n",
    "    for e in summary_iterator(path):\n",
    "        for v in e.summary.value:\n",
    "            data[v.tag].append(v.simple_value)\n",
    "    \n",
    "    # Plot the dataframe\n",
    "    for col in data:\n",
    "        plt.figure()\n",
    "        plt.plot(data[col])\n",
    "        plt.title(prefix + col)\n",
    "        plt.show()\n",
    "    "
   ]
  },
  {
   "cell_type": "code",
   "execution_count": null,
   "metadata": {},
   "outputs": [],
   "source": [
    "for x in lst:\n",
    "    name = x.split('/')[-3] + '_' + x.split('/')[-2] + ': '\n",
    "    plot_tensorboard(x, prefix=name)"
   ]
  },
  {
   "cell_type": "code",
   "execution_count": null,
   "metadata": {},
   "outputs": [],
   "source": [
    "from tensorflow.python.summary.summary_iterator import summary_iterator\n",
    "from collections import defaultdict\n",
    "import wandb\n",
    "\n",
    "\n",
    "def plot_wandb(path, prefix=''):\n",
    "    print('loading: ', path)\n",
    "    print('prefix: ', prefix)\n",
    "    \n",
    "    wandb.init(project=\"highway-env\", reinit=True, settings=wandb.Settings(start_method=\"fork\"))\n",
    "    wandb.run.name = prefix\n",
    "    wandb.run.save()\n",
    "    \n",
    "    for e in summary_iterator(path):\n",
    "        to_log = {}\n",
    "        for v in e.summary.value:\n",
    "            to_log[v.tag] = v.simple_value\n",
    "        wandb.log(to_log)"
   ]
  },
  {
   "cell_type": "code",
   "execution_count": null,
   "metadata": {},
   "outputs": [],
   "source": [
    "for x in lst:\n",
    "    name = x.split('/')[-3] + '_' + x.split('/')[-2] + ': '\n",
    "    plot_wandb(x, prefix=name)"
   ]
  },
  {
   "cell_type": "code",
   "execution_count": null,
   "metadata": {},
   "outputs": [],
   "source": []
  }
 ],
 "metadata": {
  "interpreter": {
   "hash": "cee043b561a8c77439bc4e8364adf9262d1c07e39fd4b6ce93daa65c77823301"
  },
  "kernelspec": {
   "display_name": "Python 3.8.12 ('SimpleSAC')",
   "language": "python",
   "name": "python3"
  },
  "language_info": {
   "codemirror_mode": {
    "name": "ipython",
    "version": 3
   },
   "file_extension": ".py",
   "mimetype": "text/x-python",
   "name": "python",
   "nbconvert_exporter": "python",
   "pygments_lexer": "ipython3",
   "version": "3.8.11"
  },
  "orig_nbformat": 4
 },
 "nbformat": 4,
 "nbformat_minor": 2
}
